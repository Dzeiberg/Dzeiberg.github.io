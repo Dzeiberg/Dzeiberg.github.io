{
 "cells": [
  {
   "cell_type": "markdown",
   "metadata": {},
   "source": [
    "# Installation Prerequsites "
   ]
  },
  {
   "cell_type": "markdown",
   "metadata": {},
   "source": [
    "## Anaconda Installation\n",
    "\n",
    "Anaconda / Conda\n",
    "\n",
    "* Platform that allows you to manage python versions and packages through \"environments\"\n",
    "* Includes pip - python's package manager that can be used to expand the capabilities of a base python environment\n",
    "* Each environment can run different versions of python\n",
    "* Each environment has a different set of installed packages\n",
    "\n",
    "Install Link: https://www.anaconda.com/distribution/\n",
    "\n",
    "* Download Anaconda Python 3.7 version\n",
    "* Use default settings for installation\n",
    "* If your username has a space in it, anaconda will warn that this might cause install issues"
   ]
  },
  {
   "cell_type": "markdown",
   "metadata": {},
   "source": [
    "## Create Conda Environment\n",
    "**Windows**: Open \"Anaconda Prompt\" through Start menu\n",
    "\n",
    "**Mac**: Open \"Terminal\" through spotlight search\n",
    "\n",
    "Enter the following command to create a new environment named \"py37\" with python version 3.7\n",
    "```\n",
    "conda create --name py37 python=3.7\n",
    "```\n",
    "Activate the environment you just created\n",
    "```\n",
    "conda activate py37\n",
    "```\n",
    "\n",
    "Conda Cheet Sheet is a useful reference: http://bit.ly/2xknudL\n",
    "\n",
    "## Install Packages\n",
    "Many features are already included in python, but many packages can be installed to expand the capabilities of python\n",
    "\n",
    "These packages can be installed using pip - python's package installer - or conda\n",
    "\n",
    "### jupyter-notebook\n",
    "* a web-based interactive development environment (IDE) that allows you to interactively develop python scripts, analyze and visualize data\n",
    "* A notebook is comprised of a series of cells; can either be a python code cell or a markdown text cell\n",
    "* Can execute the contents of the active cell by clicking (Shift+Enter)\n",
    "* Code cells are run in the order you execute them\n",
    "Install jupyter-notebook and add our conda environment as a python kernel (the python environment in which we'll run our code)\n",
    "```\n",
    "pip install jupyter\n",
    "python -m ipykernel install --user --name=py37\n",
    "```\n",
    "\n",
    "### Matplotlib\n",
    "* A package for creating visualizations\n",
    "```\n",
    "pip install matplotlib\n",
    "```\n",
    "\n",
    "### Pandas\n",
    "* Used for working with datasets\n",
    "* Load data into pandas DataFrame\n",
    "* Can query large datasets\n",
    "```\n",
    "pip install pandas\n",
    "```\n",
    "\n",
    "### Numpy\n",
    "* Another useful tool for mathematical operations and analyzing data\n",
    "```\n",
    "pip install numpy\n",
    "```\n",
    "\n",
    "### Sklearn\n",
    "* Another useful tool for mathematical operations and analyzing data\n",
    "```\n",
    "pip install sklearn\n",
    "```\n",
    "\n",
    "## Start-up jupyter\n",
    "In Terminal/ Anaconda Prompt run:\n",
    "```\n",
    "jupyter-notebook\n",
    "```\n",
    "This will open the jupyter console in your web browser\n",
    "\n",
    "### Unix (mac terminal) Commands\n",
    "\n",
    "Check current directory\n",
    "```\n",
    "pwd\n",
    "```\n",
    "\n",
    "List directory contents\n",
    "```\n",
    "ls\n",
    "```\n",
    "\n",
    "Change directory\n",
    "```\n",
    "cd < insert directory name without brackets >\n",
    "```\n",
    "\n",
    "Make new directory\n",
    "```\n",
    "mkdir < directory name >\n",
    "```"
   ]
  },
  {
   "cell_type": "markdown",
   "metadata": {},
   "source": [
    "# Getting Started with python\n",
    "\n",
    "Import packages that we'll be using"
   ]
  },
  {
   "cell_type": "code",
   "execution_count": null,
   "metadata": {},
   "outputs": [],
   "source": [
    "import numpy as np\n",
    "import pandas as pd\n",
    "# iPython magic to allow interactive plots\n",
    "%matplotlib notebook\n",
    "# Import for 3D plots\n",
    "from mpl_toolkits.mplot3d import Axes3D\n",
    "# Plotting library\n",
    "import matplotlib.pyplot as plt\n",
    "# Colormap Library\n",
    "from matplotlib import cm\n",
    "import sklearn"
   ]
  },
  {
   "cell_type": "markdown",
   "metadata": {},
   "source": [
    "## Variables"
   ]
  },
  {
   "cell_type": "markdown",
   "metadata": {},
   "source": [
    "### Integers and Floating Point Numbers"
   ]
  },
  {
   "cell_type": "code",
   "execution_count": null,
   "metadata": {},
   "outputs": [],
   "source": [
    "# Define two integers\n",
    "num1 = 4\n",
    "num2 = 3\n",
    "total = num1 + num2\n",
    "product = num1 * num2\n",
    "ratio = num1 / num2\n",
    "\n",
    "# int + float = float\n",
    "float1 = .125\n",
    "f1 = num1 + float1"
   ]
  },
  {
   "cell_type": "code",
   "execution_count": null,
   "metadata": {},
   "outputs": [],
   "source": [
    "f1"
   ]
  },
  {
   "cell_type": "code",
   "execution_count": null,
   "metadata": {},
   "outputs": [],
   "source": [
    "num1"
   ]
  },
  {
   "cell_type": "code",
   "execution_count": null,
   "metadata": {},
   "outputs": [],
   "source": [
    "num1 += 2"
   ]
  },
  {
   "cell_type": "code",
   "execution_count": null,
   "metadata": {},
   "outputs": [],
   "source": [
    "num1"
   ]
  },
  {
   "cell_type": "markdown",
   "metadata": {},
   "source": [
    "**Printing**"
   ]
  },
  {
   "cell_type": "code",
   "execution_count": null,
   "metadata": {},
   "outputs": [],
   "source": [
    "print(\"sum:\",total, \" product:\",product, \"ratio:\", ratio,\"\\n\")\n",
    "print(\"sum: {}\\nproduct: {}\\nratio: {:.3f}\".format(total, product, ratio))"
   ]
  },
  {
   "cell_type": "markdown",
   "metadata": {},
   "source": [
    "### Bool"
   ]
  },
  {
   "cell_type": "code",
   "execution_count": null,
   "metadata": {},
   "outputs": [],
   "source": [
    "print(\"num1: \",num1, \"\\nnum1 > 3: \", num1 > 3)"
   ]
  },
  {
   "cell_type": "markdown",
   "metadata": {},
   "source": [
    "### Strings\n",
    "https://www.w3schools.com/python/python_ref_string.asp"
   ]
  },
  {
   "cell_type": "code",
   "execution_count": null,
   "metadata": {},
   "outputs": [],
   "source": [
    "first_half = \"the quick brown fox\"\n",
    "second_half = \"jumped over the lazy dog\"\n",
    "full_sentence = first_half + \" \" + second_half"
   ]
  },
  {
   "cell_type": "code",
   "execution_count": null,
   "metadata": {},
   "outputs": [],
   "source": [
    "full_sentence"
   ]
  },
  {
   "cell_type": "code",
   "execution_count": null,
   "metadata": {},
   "outputs": [],
   "source": [
    "first_half.replace(\"fox\",\"bear\")"
   ]
  },
  {
   "cell_type": "markdown",
   "metadata": {},
   "source": [
    "Check the docs to see if the function returns the result or sets the value in-place"
   ]
  },
  {
   "cell_type": "code",
   "execution_count": null,
   "metadata": {},
   "outputs": [],
   "source": [
    "first_half"
   ]
  },
  {
   "cell_type": "code",
   "execution_count": null,
   "metadata": {},
   "outputs": [],
   "source": [
    "first_half[0]"
   ]
  },
  {
   "cell_type": "code",
   "execution_count": null,
   "metadata": {},
   "outputs": [],
   "source": [
    "first_half[4:9]"
   ]
  },
  {
   "cell_type": "code",
   "execution_count": null,
   "metadata": {},
   "outputs": [],
   "source": [
    "second_half[ second_half.find(\"the\") + 4 : second_half.find(\" dog\") ]"
   ]
  },
  {
   "cell_type": "markdown",
   "metadata": {},
   "source": [
    "### Lists, Tuples\n",
    "https://www.w3schools.com/python/python_ref_list.asp"
   ]
  },
  {
   "cell_type": "code",
   "execution_count": null,
   "metadata": {},
   "outputs": [],
   "source": [
    "list_1 = [1,2,3,4,5]\n",
    "tup_1 = (6,7,8)\n",
    "list_2 = list(tup_1)"
   ]
  },
  {
   "cell_type": "code",
   "execution_count": null,
   "metadata": {},
   "outputs": [],
   "source": [
    "list_1 + list_2"
   ]
  },
  {
   "cell_type": "markdown",
   "metadata": {},
   "source": [
    "This is an example of an in-place function"
   ]
  },
  {
   "cell_type": "code",
   "execution_count": null,
   "metadata": {},
   "outputs": [],
   "source": [
    "list_1.reverse()"
   ]
  },
  {
   "cell_type": "code",
   "execution_count": null,
   "metadata": {},
   "outputs": [],
   "source": [
    "list_1"
   ]
  },
  {
   "cell_type": "markdown",
   "metadata": {},
   "source": [
    "You can index a list and get a subsequence"
   ]
  },
  {
   "cell_type": "code",
   "execution_count": null,
   "metadata": {},
   "outputs": [],
   "source": [
    "list_1[3]"
   ]
  },
  {
   "cell_type": "code",
   "execution_count": null,
   "metadata": {},
   "outputs": [],
   "source": [
    "list_1[:2]"
   ]
  },
  {
   "cell_type": "code",
   "execution_count": null,
   "metadata": {},
   "outputs": [],
   "source": [
    "list_1[2:-1]"
   ]
  },
  {
   "cell_type": "markdown",
   "metadata": {},
   "source": [
    "Lists are mutable"
   ]
  },
  {
   "cell_type": "code",
   "execution_count": null,
   "metadata": {},
   "outputs": [],
   "source": [
    "list_1"
   ]
  },
  {
   "cell_type": "code",
   "execution_count": null,
   "metadata": {},
   "outputs": [],
   "source": [
    "list_1[2] = 55"
   ]
  },
  {
   "cell_type": "code",
   "execution_count": null,
   "metadata": {},
   "outputs": [],
   "source": [
    "list_1"
   ]
  },
  {
   "cell_type": "markdown",
   "metadata": {},
   "source": [
    "Tuples are not mutable"
   ]
  },
  {
   "cell_type": "code",
   "execution_count": null,
   "metadata": {},
   "outputs": [],
   "source": [
    "# try running this code block and if an error gets raised do that\n",
    "try:\n",
    "    tup_1[1] = 5\n",
    "except:\n",
    "    print(\"TUPLES ARE NOT MUTABLE\")"
   ]
  },
  {
   "cell_type": "markdown",
   "metadata": {},
   "source": [
    "### Sets"
   ]
  },
  {
   "cell_type": "code",
   "execution_count": null,
   "metadata": {},
   "outputs": [],
   "source": [
    "fruits = set([\"apple\", \"orange\", \"banana\"])\n",
    "vegetables = set([\"broccoli\", \"carrot\", \"lettuce\", \"olives\"])\n",
    "food_I_dont_like = set([\"olives\", \"anchovy\"])"
   ]
  },
  {
   "cell_type": "code",
   "execution_count": null,
   "metadata": {},
   "outputs": [],
   "source": [
    "fruits"
   ]
  },
  {
   "cell_type": "code",
   "execution_count": null,
   "metadata": {},
   "outputs": [],
   "source": [
    "fruits.union(vegetables)"
   ]
  },
  {
   "cell_type": "code",
   "execution_count": null,
   "metadata": {},
   "outputs": [],
   "source": [
    "vegetables.difference(food_I_dont_like)"
   ]
  },
  {
   "cell_type": "markdown",
   "metadata": {},
   "source": [
    "### Dictionaries"
   ]
  },
  {
   "cell_type": "code",
   "execution_count": null,
   "metadata": {},
   "outputs": [],
   "source": [
    "me = {\"first name\": \"Dan\", \"last name\": \"Zeiberg\", \"age\": 24}\n",
    "pedja = {\"first name\": \"Predrag\", \"last name\": \"Radivojac\"}"
   ]
  },
  {
   "cell_type": "code",
   "execution_count": null,
   "metadata": {},
   "outputs": [],
   "source": [
    "people = [me, pedja]"
   ]
  },
  {
   "cell_type": "code",
   "execution_count": null,
   "metadata": {},
   "outputs": [],
   "source": [
    "people"
   ]
  },
  {
   "cell_type": "markdown",
   "metadata": {},
   "source": [
    "### Nump Arrays, Matrices"
   ]
  },
  {
   "cell_type": "code",
   "execution_count": null,
   "metadata": {},
   "outputs": [],
   "source": [
    "arr_1 = np.array([6,2,6,8,1,6,22,6,8,999])\n",
    "arr_2 = np.random.randint(0,25,size=10)"
   ]
  },
  {
   "cell_type": "code",
   "execution_count": null,
   "metadata": {},
   "outputs": [],
   "source": [
    "arr_1"
   ]
  },
  {
   "cell_type": "markdown",
   "metadata": {},
   "source": [
    "You can do arithmetic on arrays"
   ]
  },
  {
   "cell_type": "code",
   "execution_count": null,
   "metadata": {},
   "outputs": [],
   "source": [
    "arr_2 / arr_1"
   ]
  },
  {
   "cell_type": "code",
   "execution_count": null,
   "metadata": {},
   "outputs": [],
   "source": [
    "matrix_0 = np.array([[1,2,3],[4,5,6],[7,8,9]])"
   ]
  },
  {
   "cell_type": "code",
   "execution_count": null,
   "metadata": {},
   "outputs": [],
   "source": [
    "matrix_0"
   ]
  },
  {
   "cell_type": "markdown",
   "metadata": {},
   "source": [
    "**Indexing Matrices**"
   ]
  },
  {
   "cell_type": "code",
   "execution_count": null,
   "metadata": {},
   "outputs": [],
   "source": [
    "matrix_0[1,2]"
   ]
  },
  {
   "cell_type": "markdown",
   "metadata": {},
   "source": [
    "Numpy allows you to draw from statistical distributions"
   ]
  },
  {
   "cell_type": "code",
   "execution_count": null,
   "metadata": {},
   "outputs": [],
   "source": [
    "matrix_1 = np.random.normal(loc=0, scale=1, size=[5,4])"
   ]
  },
  {
   "cell_type": "code",
   "execution_count": null,
   "metadata": {},
   "outputs": [],
   "source": [
    "matrix_1"
   ]
  },
  {
   "cell_type": "markdown",
   "metadata": {},
   "source": [
    "# Pandas DataFrames"
   ]
  },
  {
   "cell_type": "markdown",
   "metadata": {},
   "source": [
    "Load DataFrame from file\n",
    "\n",
    "boston housing dataset: https://www.kaggle.com/puxama/bostoncsv"
   ]
  },
  {
   "cell_type": "code",
   "execution_count": null,
   "metadata": {},
   "outputs": [],
   "source": [
    "housing = pd.read_csv(\"../data/BostonHousing.csv\")"
   ]
  },
  {
   "cell_type": "code",
   "execution_count": null,
   "metadata": {},
   "outputs": [],
   "source": [
    "housing"
   ]
  },
  {
   "cell_type": "code",
   "execution_count": null,
   "metadata": {},
   "outputs": [],
   "source": [
    "people_df = pd.DataFrame(people)"
   ]
  },
  {
   "cell_type": "code",
   "execution_count": null,
   "metadata": {},
   "outputs": [],
   "source": [
    "people_df"
   ]
  },
  {
   "cell_type": "code",
   "execution_count": null,
   "metadata": {},
   "outputs": [],
   "source": [
    "# each element in the dataframe is uniquely identified by it's index value\n",
    "# Lets set the index for the people DataFrame to \"last name\"\n",
    "people_df = people_df.set_index(\"last name\")"
   ]
  },
  {
   "cell_type": "code",
   "execution_count": null,
   "metadata": {},
   "outputs": [],
   "source": [
    "people_df"
   ]
  },
  {
   "cell_type": "markdown",
   "metadata": {},
   "source": [
    "Get the age of the person represented by the first row"
   ]
  },
  {
   "cell_type": "markdown",
   "metadata": {},
   "source": [
    "Can index a dataframe by row number"
   ]
  },
  {
   "cell_type": "code",
   "execution_count": null,
   "metadata": {},
   "outputs": [],
   "source": [
    "housing.iloc[0][\"age\"]"
   ]
  },
  {
   "cell_type": "markdown",
   "metadata": {},
   "source": [
    "Or you can index by the index (key) and column name"
   ]
  },
  {
   "cell_type": "markdown",
   "metadata": {},
   "source": [
    "Get Dan's age"
   ]
  },
  {
   "cell_type": "code",
   "execution_count": null,
   "metadata": {},
   "outputs": [],
   "source": [
    "people_df.loc[\"Zeiberg\",\"age\"]"
   ]
  },
  {
   "cell_type": "markdown",
   "metadata": {},
   "source": [
    "Extract Column of DataFrame, convert to numpy array, limit to first 10 values"
   ]
  },
  {
   "cell_type": "code",
   "execution_count": null,
   "metadata": {},
   "outputs": [],
   "source": [
    "housing[\"age\"].values[:10]"
   ]
  },
  {
   "cell_type": "markdown",
   "metadata": {},
   "source": [
    "You can query a DataFrame"
   ]
  },
  {
   "cell_type": "code",
   "execution_count": null,
   "metadata": {},
   "outputs": [],
   "source": [
    "housing[housing[\"age\"] > 33]"
   ]
  },
  {
   "cell_type": "code",
   "execution_count": null,
   "metadata": {},
   "outputs": [],
   "source": [
    "housing[(housing[\"age\"] > 33) & (housing[\"tax\"] <= 350)]"
   ]
  },
  {
   "cell_type": "markdown",
   "metadata": {},
   "source": [
    "## Joining DataFrames"
   ]
  },
  {
   "cell_type": "code",
   "execution_count": null,
   "metadata": {},
   "outputs": [],
   "source": [
    "people_df"
   ]
  },
  {
   "cell_type": "code",
   "execution_count": null,
   "metadata": {},
   "outputs": [],
   "source": [
    "publications_df = pd.DataFrame([\n",
    "    {\"title\": \"Fast Nonparametric Estimation of Class Proportions in the Positive-Unlabeled Classification Setting\",\n",
    "     \"year\": 2020,\n",
    "     \"first author\": \"Zeiberg\"},\n",
    "    {\"title\": \"Prediction of boundaries between intrinsically ordered and disordered protein regions\",\n",
    "     \"year\": 2003,\n",
    "     \"first author\": \"Radivojac\"}])"
   ]
  },
  {
   "cell_type": "code",
   "execution_count": null,
   "metadata": {},
   "outputs": [],
   "source": [
    "publications_df"
   ]
  },
  {
   "cell_type": "code",
   "execution_count": null,
   "metadata": {},
   "outputs": [],
   "source": [
    "people_and_publication = people_df.merge(right=publications_df, how=\"left\", left_on=\"last name\", right_on=\"first author\")"
   ]
  },
  {
   "cell_type": "code",
   "execution_count": null,
   "metadata": {},
   "outputs": [],
   "source": [
    "people_and_publication"
   ]
  },
  {
   "cell_type": "code",
   "execution_count": null,
   "metadata": {},
   "outputs": [],
   "source": [
    "# remove the first author column\n",
    "people_and_publication = people_and_publication.drop(\"first author\",axis=1)"
   ]
  },
  {
   "cell_type": "code",
   "execution_count": null,
   "metadata": {},
   "outputs": [],
   "source": [
    "people_and_publication = people_and_publication.rename(columns={\"title\":\"publication name\"})"
   ]
  },
  {
   "cell_type": "code",
   "execution_count": null,
   "metadata": {},
   "outputs": [],
   "source": [
    "people_and_publication"
   ]
  },
  {
   "cell_type": "markdown",
   "metadata": {},
   "source": [
    "# Conditionals and Loops"
   ]
  },
  {
   "cell_type": "code",
   "execution_count": null,
   "metadata": {},
   "outputs": [],
   "source": [
    "randnum = np.random.choice([1,2,3,4])\n",
    "if randnum == 1:\n",
    "    print(\"chose first value\")\n",
    "elif randnum == 2:\n",
    "    print(\"chose second value\")\n",
    "elif randnum == 3:\n",
    "    print(\"chose third value\")\n",
    "else:\n",
    "    print(\"choes fourth value\")\n",
    "    "
   ]
  },
  {
   "cell_type": "markdown",
   "metadata": {},
   "source": [
    "You can repeat a block of code using for loops and while loops\n",
    "\n",
    "**For loops**\n",
    "\n",
    "iterate over a list of values, this can be loop indices or other data"
   ]
  },
  {
   "cell_type": "code",
   "execution_count": null,
   "metadata": {},
   "outputs": [],
   "source": [
    "for i in range(10):\n",
    "    print(i)"
   ]
  },
  {
   "cell_type": "code",
   "execution_count": null,
   "metadata": {},
   "outputs": [],
   "source": [
    "for person in people:\n",
    "    print(person[\"first name\"])"
   ]
  },
  {
   "cell_type": "markdown",
   "metadata": {},
   "source": [
    "Loop over matrix values"
   ]
  },
  {
   "cell_type": "code",
   "execution_count": null,
   "metadata": {},
   "outputs": [],
   "source": [
    "# Loop over each row\n",
    "for r in range(matrix_1.shape[0]):\n",
    "    # Loop over each column\n",
    "    for c in range(matrix_1.shape[1]):\n",
    "        print(matrix_1[r,c])\n",
    "    print()"
   ]
  },
  {
   "cell_type": "markdown",
   "metadata": {},
   "source": [
    "**While Loops**\n",
    "\n",
    "Continue executing a block of code while the specified condition is false"
   ]
  },
  {
   "cell_type": "code",
   "execution_count": null,
   "metadata": {},
   "outputs": [],
   "source": [
    "values = [1,7,1,6,888,221,5]\n",
    "idx = 0\n",
    "while values[idx] < 50:\n",
    "    idx += 1\n",
    "print(\"first big number is \",values[idx])"
   ]
  },
  {
   "cell_type": "markdown",
   "metadata": {},
   "source": [
    "# Functions"
   ]
  },
  {
   "cell_type": "code",
   "execution_count": null,
   "metadata": {},
   "outputs": [],
   "source": [
    "def add(a,b):\n",
    "    return a+b"
   ]
  },
  {
   "cell_type": "code",
   "execution_count": null,
   "metadata": {},
   "outputs": [],
   "source": [
    "add(4,5)"
   ]
  },
  {
   "cell_type": "code",
   "execution_count": null,
   "metadata": {},
   "outputs": [],
   "source": [
    "def factorial(x):\n",
    "    if x > 0:\n",
    "        return x * factorial(x-1)\n",
    "    elif x == 0:\n",
    "        return 1\n",
    "    else:\n",
    "        raise Exception(\"Input must be non-negative\")"
   ]
  },
  {
   "cell_type": "code",
   "execution_count": null,
   "metadata": {},
   "outputs": [],
   "source": [
    "factorial(5)"
   ]
  },
  {
   "cell_type": "markdown",
   "metadata": {},
   "source": [
    "# Classes"
   ]
  },
  {
   "cell_type": "code",
   "execution_count": null,
   "metadata": {},
   "outputs": [],
   "source": [
    "class Person:\n",
    "    def __init__(self, name, hair_color, eye_color):\n",
    "        self.name = name\n",
    "        self.hair_color = hair_color\n",
    "        self.eye_color = eye_color\n",
    "\n",
    "    def introduce(self):\n",
    "        print(\"Hi, my name is {}\".format(self.name))\n",
    "    \n",
    "    def converse(self, other_person):\n",
    "        print(\"Hi {}, how are you today?\".format(other_person.name))"
   ]
  },
  {
   "cell_type": "code",
   "execution_count": null,
   "metadata": {},
   "outputs": [],
   "source": [
    "dan = Person(\"Dan\", \"brown\", \"green\")\n",
    "emily = Person(\"Emily\", \"blond\", \"blue\")\n",
    "dan.introduce()\n",
    "emily.converse(dan)"
   ]
  },
  {
   "cell_type": "markdown",
   "metadata": {},
   "source": [
    "# Plotting"
   ]
  },
  {
   "cell_type": "code",
   "execution_count": null,
   "metadata": {},
   "outputs": [],
   "source": [
    "ph = pd.read_csv(\"../data/pH-example.txt\")"
   ]
  },
  {
   "cell_type": "code",
   "execution_count": null,
   "metadata": {},
   "outputs": [],
   "source": [
    "ph"
   ]
  },
  {
   "cell_type": "code",
   "execution_count": null,
   "metadata": {},
   "outputs": [],
   "source": [
    "fig,ax = plt.subplots(1,1)\n",
    "ax.plot(ph[\"time\"], ph[\"v\"])"
   ]
  },
  {
   "cell_type": "code",
   "execution_count": null,
   "metadata": {},
   "outputs": [],
   "source": [
    "fig, ax = plt.subplots(1,1)\n",
    "hist = ax.hist(housing[\"age\"],bins=30)"
   ]
  },
  {
   "cell_type": "markdown",
   "metadata": {},
   "source": [
    "3D-Plot"
   ]
  },
  {
   "cell_type": "code",
   "execution_count": null,
   "metadata": {},
   "outputs": [],
   "source": [
    "from scipy.stats import multivariate_normal as mvn"
   ]
  },
  {
   "cell_type": "code",
   "execution_count": null,
   "metadata": {},
   "outputs": [],
   "source": [
    "grid = np.zeros((20,20))\n",
    "for i in range(grid.shape[0]):\n",
    "    for j in range(grid.shape[1]):\n",
    "        grid[i,j] = mvn.pdf([i,j],[9,9],[[5,0],[0,5]])"
   ]
  },
  {
   "cell_type": "code",
   "execution_count": null,
   "metadata": {},
   "outputs": [],
   "source": [
    "fig = plt.figure()\n",
    "ax = fig.gca(projection='3d')\n",
    "X,Y = np.meshgrid(list(range(grid.shape[0])), list(range(grid.shape[1])))\n",
    "surface = ax.plot_surface(X,Y,grid, cmap=cm.coolwarm)"
   ]
  },
  {
   "cell_type": "markdown",
   "metadata": {},
   "source": [
    "# Example"
   ]
  },
  {
   "cell_type": "code",
   "execution_count": null,
   "metadata": {},
   "outputs": [],
   "source": [
    "ph_arr = ph.values"
   ]
  },
  {
   "cell_type": "code",
   "execution_count": null,
   "metadata": {},
   "outputs": [],
   "source": [
    "delta = ph_arr[1:,1] - ph_arr[:-1,1]"
   ]
  },
  {
   "cell_type": "code",
   "execution_count": null,
   "metadata": {},
   "outputs": [],
   "source": [
    "fig, axes = plt.subplots(2,1, figsize=(6,5))\n",
    "# adjust vertical spacing between subplots\n",
    "plt.subplots_adjust(hspace=0.3)\n",
    "axes[0].plot(ph_arr[:,0],ph_arr[:,1],'--o', linewidth=2, markersize=2, label=\"pH\")\n",
    "axes[0].set_ylabel(\"pH\")\n",
    "axes[1].plot(ph_arr[1:,0],delta, color=\"red\", label=\"$\\Delta$ pH\")\n",
    "axes[1].set_ylabel(\"$\\Delta$ pH\")\n",
    "xlab = axes[1].set_xlabel(\"Time, h\")"
   ]
  },
  {
   "cell_type": "code",
   "execution_count": null,
   "metadata": {},
   "outputs": [],
   "source": []
  }
 ],
 "metadata": {
  "language_info": {
   "name": "python",
   "pygments_lexer": "ipython3"
  }
 },
 "nbformat": 4,
 "nbformat_minor": 2
}
